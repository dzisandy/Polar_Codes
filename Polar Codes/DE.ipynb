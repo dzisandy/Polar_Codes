{
 "cells": [
  {
   "cell_type": "code",
   "execution_count": 1,
   "metadata": {},
   "outputs": [
    {
     "name": "stdout",
     "output_type": "stream",
     "text": [
      "Populating the interactive namespace from numpy and matplotlib\n"
     ]
    }
   ],
   "source": [
    "import pandas as pd\n",
    "import matplotlib.pyplot as plt\n",
    "import numpy as np\n",
    "%pylab inline\n",
    "from scipy.interpolate import spline\n",
    "import scipy.integrate as integrate\n",
    "import scipy.special as special\n"
   ]
  },
  {
   "cell_type": "code",
   "execution_count": 2,
   "metadata": {},
   "outputs": [
    {
     "ename": "SyntaxError",
     "evalue": "invalid syntax (<ipython-input-2-02269a69fc7a>, line 1)",
     "output_type": "error",
     "traceback": [
      "\u001b[0;36m  File \u001b[0;32m\"<ipython-input-2-02269a69fc7a>\"\u001b[0;36m, line \u001b[0;32m1\u001b[0m\n\u001b[0;31m    sigma =\u001b[0m\n\u001b[0m            ^\u001b[0m\n\u001b[0;31mSyntaxError\u001b[0m\u001b[0;31m:\u001b[0m invalid syntax\n"
     ]
    }
   ],
   "source": [
    "sigma = \n",
    "x = \n"
   ]
  },
  {
   "cell_type": "code",
   "execution_count": 13,
   "metadata": {},
   "outputs": [],
   "source": [
    "def rho(x,sigma):\n",
    "    return 1/2* np.exp(-(y-2)**2/(2*sigma**2)) + 1/2*np.exp(-y**2/(2*sigma**2))\n",
    "\n",
    "def der(x,sigma):\n",
    "    return (2/sigma**2)*(np.exp((4*x - 4)/(2*sigma**2)) - np.exp((-4*x - 4)/(2*sigma**2)))/((np.exp((4*x - 4)/(2*sigma**2))+1)*(np.exp((-4*x-4)/(2*sigma**2))+1))\n",
    "\n",
    "def func(x, sigma):\n",
    "    function = rho(x,sigma)/der(x,sigma)\n",
    "    return integrate.quad(function, -np.inf, np.inf, args=(sigma))"
   ]
  },
  {
   "cell_type": "code",
   "execution_count": null,
   "metadata": {
    "collapsed": true
   },
   "outputs": [],
   "source": [
    "def rho(x,sigma):\n",
    "    return 1/2* np.exp(-(y-2)**2/(2*sigma**2)) + 1/2*np.exp(-y**2/(2*sigma**2))"
   ]
  }
 ],
 "metadata": {
  "kernelspec": {
   "display_name": "Python 3",
   "language": "python",
   "name": "python3"
  },
  "language_info": {
   "codemirror_mode": {
    "name": "ipython",
    "version": 3
   },
   "file_extension": ".py",
   "mimetype": "text/x-python",
   "name": "python",
   "nbconvert_exporter": "python",
   "pygments_lexer": "ipython3",
   "version": "3.6.0"
  }
 },
 "nbformat": 4,
 "nbformat_minor": 2
}
