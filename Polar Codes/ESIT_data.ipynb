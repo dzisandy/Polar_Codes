{
 "cells": [
  {
   "cell_type": "code",
   "execution_count": 53,
   "metadata": {},
   "outputs": [
    {
     "name": "stdout",
     "output_type": "stream",
     "text": [
      "Populating the interactive namespace from numpy and matplotlib\n"
     ]
    }
   ],
   "source": [
    "import pandas as pd\n",
    "import matplotlib.pyplot as plt\n",
    "import numpy as np\n",
    "%pylab inline\n",
    "from scipy.interpolate import spline"
   ]
  },
  {
   "cell_type": "code",
   "execution_count": 54,
   "metadata": {
    "collapsed": true
   },
   "outputs": [],
   "source": [
    "df_polar = pd.read_csv('result_polar.txt', sep = ';', names = ['R','Lengh', 'SNR', 'error', 'method'])\n",
    "df_ldpc = pd.read_csv('result_ldpc.txt', sep = ';', names = ['R','Lengh', 'SNR', 'error', 'method'])"
   ]
  },
  {
   "cell_type": "code",
   "execution_count": 55,
   "metadata": {},
   "outputs": [],
   "source": [
    "#df_polar[0:5]\n",
    "#df_polar[5:10]\n",
    "#df_polar[10:15]\n",
    "#df_polar[27:34]"
   ]
  },
  {
   "cell_type": "code",
   "execution_count": 56,
   "metadata": {},
   "outputs": [],
   "source": [
    "#df_ldpc[0:7]\n",
    "#df_ldpc[7:14]\n",
    "#df_ldpc[24:31]\n",
    "#df_ldpc[31:38]\n",
    "#df_ldpc[14:19]\n",
    "#df_ldpc[:25]\n",
    "#df_ldpc[38:43]\n",
    "#df_ldpc[43:]"
   ]
  },
  {
   "cell_type": "code",
   "execution_count": 57,
   "metadata": {
    "collapsed": true
   },
   "outputs": [],
   "source": [
    "#L = 128 R = 0.2\n",
    "#df1 = np.log10(df_ldpc[0:7]['error'])\n",
    "#df2 = np.log10(df_polar[27:34]['error'])\n",
    "\n",
    "#L = 128 R = 0.4\n",
    "#df1 = np.log10(df_ldpc[14:19]['error'])\n",
    "#df2 = np.log10(df_polar[5:10]['error'])\n",
    "\n",
    "\n",
    "\n",
    "\n",
    "#L = 64 R = 0.2\n",
    "df1 = np.log10(df_ldpc[24:31]['error'])\n",
    "df2 = np.log10(df_polar[20:27]['error'])\n",
    "\n",
    "\n",
    "#L = 64 R = 0.4\n",
    "#df1 = np.log10(df_ldpc[38:43]['error'])\n",
    "#df2 = np.log10(df_polar[15:20]['error'])\n",
    "\n",
    "#Setting SNR's bounds and range\n",
    "x = np.arange(-4.0,-0.5,0.5)\n",
    "\n",
    "#Smoothing\n",
    "xnew = np.linspace(x.min(),x.max(),7)\n",
    "smooth_df1 = spline(x,df1,xnew)\n",
    "smooth_df2 = spline(x,df2,xnew)"
   ]
  },
  {
   "cell_type": "code",
   "execution_count": 49,
   "metadata": {},
   "outputs": [
    {
     "data": {
      "image/png": "[encoded data removed]",
      "text/plain": [
       "<matplotlib.figure.Figure at 0x116517048>"
      ]
     },
     "metadata": {},
     "output_type": "display_data"
    }
   ],
   "source": [
    "plt.figure(figsize=(7.5,5))\n",
    "plt.plot(xnew,smooth_df1, \"bo-\", label=\"LDPC\")\n",
    "plt.plot(xnew,smooth_df2, \"ro-\", label=\"Polar Codes\") \n",
    "plt.xlabel(\"SNR, dB\")\n",
    "plt.ylabel(\"log10(FER)\")\n",
    "plt.grid()\n",
    "plt.title('Length = 64 Rate = 0.2')\n",
    "plt.legend(loc='upper right')\n",
    "plt.show()"
   ]
  }
 ],
 "metadata": {
  "kernelspec": {
   "display_name": "Python 3",
   "language": "python",
   "name": "python3"
  },
  "language_info": {
   "codemirror_mode": {
    "name": "ipython",
    "version": 3
   },
   "file_extension": ".py",
   "mimetype": "text/x-python",
   "name": "python",
   "nbconvert_exporter": "python",
   "pygments_lexer": "ipython3",
   "version": "3.6.0"
  }
 },
 "nbformat": 4,
 "nbformat_minor": 2
}
